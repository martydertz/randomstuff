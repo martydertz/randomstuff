{
 "cells": [
  {
   "cell_type": "code",
   "execution_count": 1,
   "metadata": {},
   "outputs": [],
   "source": [
    "import numpy as np\n"
   ]
  },
  {
   "cell_type": "code",
   "execution_count": 88,
   "metadata": {},
   "outputs": [],
   "source": [
    "class Dice: \n",
    "    \n",
    "    def __init__(self, n_sides=4):\n",
    "        self.n_sides = n_sides \n",
    "        \n",
    "    \n",
    "    \n",
    "    def single_roll(self, n_rolls=1):\n",
    "        sides = self.n_sides\n",
    "        return np.random.randint(1, sides+1)\n",
    "    \n",
    "    def roll_advantage(self):\n",
    "        return np.max([self.single_roll(), self.single_roll()])\n",
    "    \n",
    "    def roll_disadvantage(self):\n",
    "        return np.min([self.single_roll(), self.single_roll()])\n",
    "    \n",
    "    \n",
    "    def roll_advantage_of_disadvantage(self):\n",
    "        return np.max([self.roll_disadvantage(), self.roll_disadvantage()])\n",
    "    \n",
    "    def roll_disadvantage_of_advantage(self):\n",
    "        return np.max([self.roll_disadvantage(), self.roll_disadvantage()])\n",
    "    \n",
    "    def sequence_of_rolls(self, roll_type):\n",
    "        \n",
    "    \n",
    "\n",
    "    def __str__(self):\n",
    "        return 'Dice with '+str(self.n_sides)\n",
    "    "
   ]
  },
  {
   "cell_type": "code",
   "execution_count": 89,
   "metadata": {},
   "outputs": [],
   "source": [
    "die = Dice(n_sides=20)"
   ]
  },
  {
   "cell_type": "code",
   "execution_count": 58,
   "metadata": {},
   "outputs": [],
   "source": [
    "def simulate_adv_dis(num_trials=100):\n",
    "    for i in range(num_trials):\n",
    "        die = Dice(n_sides=20)\n",
    "        "
   ]
  },
  {
   "cell_type": "code",
   "execution_count": 82,
   "metadata": {},
   "outputs": [
    {
     "data": {
      "text/plain": [
       "14"
      ]
     },
     "execution_count": 82,
     "metadata": {},
     "output_type": "execute_result"
    }
   ],
   "source": [
    "die.roll_advantage_of_disadvantage()"
   ]
  },
  {
   "cell_type": "code",
   "execution_count": null,
   "metadata": {},
   "outputs": [],
   "source": []
  }
 ],
 "metadata": {
  "kernelspec": {
   "display_name": "Python 3.6.8 64-bit ('anaconda3': virtualenv)",
   "language": "python",
   "name": "python36864bitanaconda3virtualenv6994e40813d942e18f6cb35e6c3a1fc8"
  },
  "language_info": {
   "codemirror_mode": {
    "name": "ipython",
    "version": 3
   },
   "file_extension": ".py",
   "mimetype": "text/x-python",
   "name": "python",
   "nbconvert_exporter": "python",
   "pygments_lexer": "ipython3",
   "version": "3.6.8"
  }
 },
 "nbformat": 4,
 "nbformat_minor": 2
}
